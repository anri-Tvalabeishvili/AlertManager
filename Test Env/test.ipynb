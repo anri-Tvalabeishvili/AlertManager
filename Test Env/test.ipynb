{
 "cells": [
  {
   "cell_type": "code",
   "source": [
    "from datetime import datetime\n",
    "import pandas as pd\n",
    "import numpy as np\n",
    "import warnings\n",
    "import os\n",
    "from AlertManager.module import LocalValidator\n",
    "# Ignore specific warnings\n",
    "warnings.filterwarnings(\"ignore\", message=\"X does not have valid feature names\")"
   ],
   "metadata": {
    "collapsed": false,
    "ExecuteTime": {
     "end_time": "2024-09-28T17:13:42.102850Z",
     "start_time": "2024-09-28T17:13:40.938343Z"
    }
   },
   "id": "235d61cb9e8756ca",
   "outputs": [],
   "execution_count": 1
  },
  {
   "cell_type": "code",
   "outputs": [],
   "source": [
    "df = pd.read_pickle(\"Raw Data/ScoringLoans.pkl\")"
   ],
   "metadata": {
    "collapsed": false,
    "ExecuteTime": {
     "end_time": "2024-09-28T17:13:56.453476Z",
     "start_time": "2024-09-28T17:13:42.741096Z"
    }
   },
   "id": "5d6bd4434babe3b1",
   "execution_count": 2
  },
  {
   "cell_type": "code",
   "outputs": [
    {
     "name": "stdout",
     "output_type": "stream",
     "text": [
      "Processing data for validation 1...\n"
     ]
    }
   ],
   "source": [
    "# Example usage of the LocalValidator class.\n",
    "validator = LocalValidator(store=True, history=True, united=True,identifier=\"AppId\", file_type=\"csv\")\n",
    "\n",
    "\n",
    "@validator.value_check(column='Cif', not_allowed=[0], name=\"Cif Validation\")\n",
    "@validator.value_check(column='PersonId', not_allowed=[0], name=\"PersonId Validation\")\n",
    "@validator.range_check(column='ClientAge', borders=[(17, 100)], name=\"Age Validation\")\n",
    "@validator.value_check(column='GenderId', allowed=[9,10], name=\"Gender Validation\")\n",
    "@validator.statistical(column='LoanPeriod', name=\"LoanPeriod Validation\", data_type=\"continuous\")\n",
    "@validator.statistical(column='GenderId', name=\"GenderId Validation\")\n",
    "@validator.\n",
    "def process_data_1(df):\n",
    "    print(\"Processing data for validation 1...\")\n",
    "\n",
    "\n",
    "process_data_1(df)"
   ],
   "metadata": {
    "collapsed": false,
    "ExecuteTime": {
     "end_time": "2024-09-28T17:13:59.260320Z",
     "start_time": "2024-09-28T17:13:57.341611Z"
    }
   },
   "id": "af6e660de1bd7a22",
   "execution_count": 3
  },
  {
   "metadata": {},
   "cell_type": "code",
   "source": [
    "# დავამატოთ დათაფრეიმში აუთლეიერების პონის ფუნქციონალი, რომელიც გადაცემული სვეტის ან სვეტების მიხედვით იპოვის აუთლეიერს და გამოუტანს იუზერს, თუ სვეტს არ დაუკონკრეტებ მაშინ დათაფრეიმის თითოეულ სვეტში მოგიძებნის აუთლეიერებს. \n",
    "# ზემოთ დაწერილი ფუნქციონალი უნდა დაიწეროს MS SQL, PostgreSQL, MySQL"
   ],
   "id": "fb2ae68989d45f7d",
   "outputs": [],
   "execution_count": null
  }
 ],
 "metadata": {
  "kernelspec": {
   "display_name": "Python 3",
   "language": "python",
   "name": "python3"
  },
  "language_info": {
   "codemirror_mode": {
    "name": "ipython",
    "version": 2
   },
   "file_extension": ".py",
   "mimetype": "text/x-python",
   "name": "python",
   "nbconvert_exporter": "python",
   "pygments_lexer": "ipython2",
   "version": "2.7.6"
  }
 },
 "nbformat": 4,
 "nbformat_minor": 5
}
