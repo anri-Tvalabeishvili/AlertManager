{
 "cells": [
  {
   "cell_type": "code",
   "source": [
    "from datetime import datetime\n",
    "import pandas as pd\n",
    "import numpy as np\n",
    "import warnings\n",
    "import os\n",
    "from sqlalchemy import create_engine\n",
    "from AlertManager.module import DatabaseValidator\n",
    "# Ignore specific warnings\n",
    "warnings.filterwarnings(\"ignore\", message=\"X does not have valid feature names\")"
   ],
   "metadata": {
    "collapsed": false,
    "ExecuteTime": {
     "end_time": "2024-10-30T05:06:23.153538Z",
     "start_time": "2024-10-30T05:06:23.143554Z"
    }
   },
   "id": "235d61cb9e8756ca",
   "outputs": [],
   "execution_count": 4
  },
  {
   "cell_type": "code",
   "outputs": [
    {
     "name": "stdout",
     "output_type": "stream",
     "text": [
      "Processing data...\n"
     ]
    }
   ],
   "source": [
    "# Initialize the validator\n",
    "validator = DatabaseValidator(\n",
    "    connection_string=\"mssql://@10.195.103.194/WH_ScoringReports?driver=ODBC+Driver+17+for+SQL+Server&trusted_connection=yes\",\n",
    "    table_name=\"ScoringLoans\",\n",
    "    schema=\"dbo\",\n",
    "    store=True,\n",
    "    identifier=\"AppId\",\n",
    "    file_type = \"CSV\"\n",
    "    \n",
    ")\n",
    "\n",
    "# Define a dummy function to decorate\n",
    "def process_data():\n",
    "    print(\"Processing data...\")\n",
    "\n",
    "\n",
    "\n",
    "# Apply custom check with SQL condition\n",
    "@validator.custom_check(custom_logic=\"age < 0 OR age > 120\", name=\"Age Logical Check\")\n",
    "def process_data_with_custom_check():\n",
    "    process_data()\n",
    "\n",
    "\n",
    "process_data_with_custom_check()\n"
   ],
   "metadata": {
    "collapsed": false,
    "ExecuteTime": {
     "end_time": "2024-10-30T05:12:06.148027Z",
     "start_time": "2024-10-30T05:12:04.148802Z"
    }
   },
   "id": "c6b31f6ba1773382",
   "execution_count": 11
  },
  {
   "cell_type": "code",
   "outputs": [],
   "source": [
    "# Create an instance of DatabaseValidator with default table_name and schema\n",
    "validator = DatabaseValidator(\n",
    "    connection_string=connection_string,\n",
    "    table_name='ScoringLoans',     # Default table name\n",
    "    schema='dbo',        # Default schema\n",
    "    store=True,\n",
    "    united=True,\n",
    "    identifier='id',             # Assuming 'id' is the primary key in your tables\n",
    "    path=\"./validation_logs\",    # Directory where logs will be stored\n",
    "    file_type=\"csv\"              # Choose from 'csv', 'xlsx', 'pkl', 'txt'\n",
    ")\n",
    "\n",
    "\n",
    "@validator.value_check(\n",
    "    column='department',\n",
    "    allowed=['HR', 'Engineering', 'Sales'],\n",
    "    name='Department Validation',\n",
    ")\n",
    "\n",
    "def process_data_2():\n",
    "    # Your data processing logic here\n",
    "    print(\"Employee departments validated.\")\n",
    "\n",
    "process_data_2()"
   ],
   "metadata": {
    "collapsed": false
   },
   "id": "e57df30ebec9f7e8"
  }
 ],
 "metadata": {
  "kernelspec": {
   "display_name": "Python 3",
   "language": "python",
   "name": "python3"
  },
  "language_info": {
   "codemirror_mode": {
    "name": "ipython",
    "version": 2
   },
   "file_extension": ".py",
   "mimetype": "text/x-python",
   "name": "python",
   "nbconvert_exporter": "python",
   "pygments_lexer": "ipython2",
   "version": "2.7.6"
  }
 },
 "nbformat": 4,
 "nbformat_minor": 5
}
